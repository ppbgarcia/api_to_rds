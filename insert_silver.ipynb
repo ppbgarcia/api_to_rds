{
 "cells": [
  {
   "cell_type": "code",
   "execution_count": 29,
   "metadata": {},
   "outputs": [],
   "source": [
    "import pandas as pd \n",
    "import boto3\n",
    "from os import getenv\n",
    "from io import StringIO\n",
    "import requests\n",
    "\n",
    "bucket = getenv('BUCKET')"
   ]
  },
  {
   "cell_type": "code",
   "execution_count": null,
   "metadata": {},
   "outputs": [
    {
     "name": "stdout",
     "output_type": "stream",
     "text": [
      "Get Object Successful\n"
     ]
    }
   ],
   "source": [
    "s3_client = boto3.client('s3')\n",
    "content = s3_client.get_object(Bucket = bucket, Key = 'bronze-layer/pokemon.csv')\n",
    "df = content[\"Body\"].read().decode(\"utf-8\")\n",
    "try:\n",
    "    df = pd.read_csv(StringIO(df))\n",
    "    print('Get Object Successful')\n",
    "except Exception as erro:\n",
    "    print('Error getting the object:', erro)\n",
    "\n",
    "df['primary_type'] = None\n",
    "df.set_index('name', inplace = True)"
   ]
  },
  {
   "cell_type": "code",
   "execution_count": 111,
   "metadata": {},
   "outputs": [
    {
     "data": {
      "text/plain": [
       "'https://pokeapi.co/api/v2/pokemon/1/'"
      ]
     },
     "execution_count": 111,
     "metadata": {},
     "output_type": "execute_result"
    }
   ],
   "source": [
    "df.loc[i, 'url']"
   ]
  },
  {
   "cell_type": "code",
   "execution_count": 113,
   "metadata": {},
   "outputs": [],
   "source": [
    "for i in df.index:\n",
    "    dic = requests.get(df.loc[i, 'url']).json()\n",
    "    df['primary_type'].loc[i] = dic['types'][0]['type']['name']\n"
   ]
  },
  {
   "cell_type": "code",
   "execution_count": 114,
   "metadata": {},
   "outputs": [
    {
     "data": {
      "text/html": [
       "<div>\n",
       "<style scoped>\n",
       "    .dataframe tbody tr th:only-of-type {\n",
       "        vertical-align: middle;\n",
       "    }\n",
       "\n",
       "    .dataframe tbody tr th {\n",
       "        vertical-align: top;\n",
       "    }\n",
       "\n",
       "    .dataframe thead th {\n",
       "        text-align: right;\n",
       "    }\n",
       "</style>\n",
       "<table border=\"1\" class=\"dataframe\">\n",
       "  <thead>\n",
       "    <tr style=\"text-align: right;\">\n",
       "      <th></th>\n",
       "      <th>name</th>\n",
       "      <th>url</th>\n",
       "      <th>primary_type</th>\n",
       "    </tr>\n",
       "  </thead>\n",
       "  <tbody>\n",
       "    <tr>\n",
       "      <th>0</th>\n",
       "      <td>bulbasaur</td>\n",
       "      <td>https://pokeapi.co/api/v2/pokemon/1/</td>\n",
       "      <td>grass</td>\n",
       "    </tr>\n",
       "    <tr>\n",
       "      <th>1</th>\n",
       "      <td>ivysaur</td>\n",
       "      <td>https://pokeapi.co/api/v2/pokemon/2/</td>\n",
       "      <td>grass</td>\n",
       "    </tr>\n",
       "    <tr>\n",
       "      <th>2</th>\n",
       "      <td>venusaur</td>\n",
       "      <td>https://pokeapi.co/api/v2/pokemon/3/</td>\n",
       "      <td>grass</td>\n",
       "    </tr>\n",
       "    <tr>\n",
       "      <th>3</th>\n",
       "      <td>charmander</td>\n",
       "      <td>https://pokeapi.co/api/v2/pokemon/4/</td>\n",
       "      <td>fire</td>\n",
       "    </tr>\n",
       "    <tr>\n",
       "      <th>4</th>\n",
       "      <td>charmeleon</td>\n",
       "      <td>https://pokeapi.co/api/v2/pokemon/5/</td>\n",
       "      <td>fire</td>\n",
       "    </tr>\n",
       "    <tr>\n",
       "      <th>...</th>\n",
       "      <td>...</td>\n",
       "      <td>...</td>\n",
       "      <td>...</td>\n",
       "    </tr>\n",
       "    <tr>\n",
       "      <th>1297</th>\n",
       "      <td>ogerpon-wellspring-mask</td>\n",
       "      <td>https://pokeapi.co/api/v2/pokemon/10273/</td>\n",
       "      <td>grass</td>\n",
       "    </tr>\n",
       "    <tr>\n",
       "      <th>1298</th>\n",
       "      <td>ogerpon-hearthflame-mask</td>\n",
       "      <td>https://pokeapi.co/api/v2/pokemon/10274/</td>\n",
       "      <td>grass</td>\n",
       "    </tr>\n",
       "    <tr>\n",
       "      <th>1299</th>\n",
       "      <td>ogerpon-cornerstone-mask</td>\n",
       "      <td>https://pokeapi.co/api/v2/pokemon/10275/</td>\n",
       "      <td>grass</td>\n",
       "    </tr>\n",
       "    <tr>\n",
       "      <th>1300</th>\n",
       "      <td>terapagos-terastal</td>\n",
       "      <td>https://pokeapi.co/api/v2/pokemon/10276/</td>\n",
       "      <td>normal</td>\n",
       "    </tr>\n",
       "    <tr>\n",
       "      <th>1301</th>\n",
       "      <td>terapagos-stellar</td>\n",
       "      <td>https://pokeapi.co/api/v2/pokemon/10277/</td>\n",
       "      <td>normal</td>\n",
       "    </tr>\n",
       "  </tbody>\n",
       "</table>\n",
       "<p>1302 rows × 3 columns</p>\n",
       "</div>"
      ],
      "text/plain": [
       "                          name                                       url  \\\n",
       "0                    bulbasaur      https://pokeapi.co/api/v2/pokemon/1/   \n",
       "1                      ivysaur      https://pokeapi.co/api/v2/pokemon/2/   \n",
       "2                     venusaur      https://pokeapi.co/api/v2/pokemon/3/   \n",
       "3                   charmander      https://pokeapi.co/api/v2/pokemon/4/   \n",
       "4                   charmeleon      https://pokeapi.co/api/v2/pokemon/5/   \n",
       "...                        ...                                       ...   \n",
       "1297   ogerpon-wellspring-mask  https://pokeapi.co/api/v2/pokemon/10273/   \n",
       "1298  ogerpon-hearthflame-mask  https://pokeapi.co/api/v2/pokemon/10274/   \n",
       "1299  ogerpon-cornerstone-mask  https://pokeapi.co/api/v2/pokemon/10275/   \n",
       "1300        terapagos-terastal  https://pokeapi.co/api/v2/pokemon/10276/   \n",
       "1301         terapagos-stellar  https://pokeapi.co/api/v2/pokemon/10277/   \n",
       "\n",
       "     primary_type  \n",
       "0           grass  \n",
       "1           grass  \n",
       "2           grass  \n",
       "3            fire  \n",
       "4            fire  \n",
       "...           ...  \n",
       "1297        grass  \n",
       "1298        grass  \n",
       "1299        grass  \n",
       "1300       normal  \n",
       "1301       normal  \n",
       "\n",
       "[1302 rows x 3 columns]"
      ]
     },
     "execution_count": 114,
     "metadata": {},
     "output_type": "execute_result"
    }
   ],
   "source": [
    "df"
   ]
  }
 ],
 "metadata": {
  "kernelspec": {
   "display_name": "api_venv",
   "language": "python",
   "name": "python3"
  },
  "language_info": {
   "codemirror_mode": {
    "name": "ipython",
    "version": 3
   },
   "file_extension": ".py",
   "mimetype": "text/x-python",
   "name": "python",
   "nbconvert_exporter": "python",
   "pygments_lexer": "ipython3",
   "version": "3.11.2"
  }
 },
 "nbformat": 4,
 "nbformat_minor": 2
}

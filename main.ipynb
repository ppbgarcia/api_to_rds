{
 "cells": [
  {
   "cell_type": "code",
   "execution_count": 39,
   "metadata": {},
   "outputs": [],
   "source": [
    "import pandas as pd \n",
    "import boto3\n",
    "import sqlalchemy \n",
    "import requests\n",
    "import os\n",
    "import json \n",
    "from io import StringIO\n",
    "\n",
    "s3_cliente = boto3.client('s3')\n",
    "\n",
    "api_key = os.getenv('API_KEY')\n",
    "url = 'https://pokeapi.co/api/v2/pokemon?limit=1350'"
   ]
  },
  {
   "cell_type": "code",
   "execution_count": 40,
   "metadata": {},
   "outputs": [],
   "source": [
    "dados = requests.get(url).json()\n",
    "dados = pd.DataFrame(dados['results'])"
   ]
  },
  {
   "cell_type": "code",
   "execution_count": 41,
   "metadata": {},
   "outputs": [],
   "source": [
    "buffer = StringIO()\n",
    "dados.to_csv(buffer)\n",
    "conteudo = buffer.getvalue()"
   ]
  }
 ],
 "metadata": {
  "kernelspec": {
   "display_name": "api_venv",
   "language": "python",
   "name": "python3"
  },
  "language_info": {
   "codemirror_mode": {
    "name": "ipython",
    "version": 3
   },
   "file_extension": ".py",
   "mimetype": "text/x-python",
   "name": "python",
   "nbconvert_exporter": "python",
   "pygments_lexer": "ipython3",
   "version": "3.11.2"
  }
 },
 "nbformat": 4,
 "nbformat_minor": 2
}

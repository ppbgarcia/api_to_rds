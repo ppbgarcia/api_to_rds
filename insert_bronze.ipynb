{
 "cells": [
  {
   "cell_type": "code",
   "execution_count": 1,
   "metadata": {},
   "outputs": [],
   "source": [
    "import pandas as pd \n",
    "import boto3\n",
    "import sqlalchemy \n",
    "import requests\n",
    "import os\n",
    "import json \n",
    "from io import StringIO\n",
    "\n",
    "s3_cliente = boto3.client('s3')\n",
    "\n",
    "api_key = os.getenv('API_KEY')\n",
    "bucket = os.getenv('BUCKET')\n",
    "url = 'https://pokeapi.co/api/v2/pokemon?limit=1350'"
   ]
  },
  {
   "cell_type": "code",
   "execution_count": 2,
   "metadata": {},
   "outputs": [
    {
     "data": {
      "text/html": [
       "<div>\n",
       "<style scoped>\n",
       "    .dataframe tbody tr th:only-of-type {\n",
       "        vertical-align: middle;\n",
       "    }\n",
       "\n",
       "    .dataframe tbody tr th {\n",
       "        vertical-align: top;\n",
       "    }\n",
       "\n",
       "    .dataframe thead th {\n",
       "        text-align: right;\n",
       "    }\n",
       "</style>\n",
       "<table border=\"1\" class=\"dataframe\">\n",
       "  <thead>\n",
       "    <tr style=\"text-align: right;\">\n",
       "      <th></th>\n",
       "      <th>name</th>\n",
       "      <th>url</th>\n",
       "    </tr>\n",
       "  </thead>\n",
       "  <tbody>\n",
       "    <tr>\n",
       "      <th>0</th>\n",
       "      <td>bulbasaur</td>\n",
       "      <td>https://pokeapi.co/api/v2/pokemon/1/</td>\n",
       "    </tr>\n",
       "    <tr>\n",
       "      <th>1</th>\n",
       "      <td>ivysaur</td>\n",
       "      <td>https://pokeapi.co/api/v2/pokemon/2/</td>\n",
       "    </tr>\n",
       "    <tr>\n",
       "      <th>2</th>\n",
       "      <td>venusaur</td>\n",
       "      <td>https://pokeapi.co/api/v2/pokemon/3/</td>\n",
       "    </tr>\n",
       "    <tr>\n",
       "      <th>3</th>\n",
       "      <td>charmander</td>\n",
       "      <td>https://pokeapi.co/api/v2/pokemon/4/</td>\n",
       "    </tr>\n",
       "    <tr>\n",
       "      <th>4</th>\n",
       "      <td>charmeleon</td>\n",
       "      <td>https://pokeapi.co/api/v2/pokemon/5/</td>\n",
       "    </tr>\n",
       "    <tr>\n",
       "      <th>...</th>\n",
       "      <td>...</td>\n",
       "      <td>...</td>\n",
       "    </tr>\n",
       "    <tr>\n",
       "      <th>1297</th>\n",
       "      <td>ogerpon-wellspring-mask</td>\n",
       "      <td>https://pokeapi.co/api/v2/pokemon/10273/</td>\n",
       "    </tr>\n",
       "    <tr>\n",
       "      <th>1298</th>\n",
       "      <td>ogerpon-hearthflame-mask</td>\n",
       "      <td>https://pokeapi.co/api/v2/pokemon/10274/</td>\n",
       "    </tr>\n",
       "    <tr>\n",
       "      <th>1299</th>\n",
       "      <td>ogerpon-cornerstone-mask</td>\n",
       "      <td>https://pokeapi.co/api/v2/pokemon/10275/</td>\n",
       "    </tr>\n",
       "    <tr>\n",
       "      <th>1300</th>\n",
       "      <td>terapagos-terastal</td>\n",
       "      <td>https://pokeapi.co/api/v2/pokemon/10276/</td>\n",
       "    </tr>\n",
       "    <tr>\n",
       "      <th>1301</th>\n",
       "      <td>terapagos-stellar</td>\n",
       "      <td>https://pokeapi.co/api/v2/pokemon/10277/</td>\n",
       "    </tr>\n",
       "  </tbody>\n",
       "</table>\n",
       "<p>1302 rows × 2 columns</p>\n",
       "</div>"
      ],
      "text/plain": [
       "                          name                                       url\n",
       "0                    bulbasaur      https://pokeapi.co/api/v2/pokemon/1/\n",
       "1                      ivysaur      https://pokeapi.co/api/v2/pokemon/2/\n",
       "2                     venusaur      https://pokeapi.co/api/v2/pokemon/3/\n",
       "3                   charmander      https://pokeapi.co/api/v2/pokemon/4/\n",
       "4                   charmeleon      https://pokeapi.co/api/v2/pokemon/5/\n",
       "...                        ...                                       ...\n",
       "1297   ogerpon-wellspring-mask  https://pokeapi.co/api/v2/pokemon/10273/\n",
       "1298  ogerpon-hearthflame-mask  https://pokeapi.co/api/v2/pokemon/10274/\n",
       "1299  ogerpon-cornerstone-mask  https://pokeapi.co/api/v2/pokemon/10275/\n",
       "1300        terapagos-terastal  https://pokeapi.co/api/v2/pokemon/10276/\n",
       "1301         terapagos-stellar  https://pokeapi.co/api/v2/pokemon/10277/\n",
       "\n",
       "[1302 rows x 2 columns]"
      ]
     },
     "execution_count": 2,
     "metadata": {},
     "output_type": "execute_result"
    }
   ],
   "source": [
    "dados = requests.get(url).json()\n",
    "dados = pd.DataFrame(dados['results'])\n",
    "dados"
   ]
  },
  {
   "cell_type": "code",
   "execution_count": 3,
   "metadata": {},
   "outputs": [],
   "source": [
    "buffer = StringIO()\n",
    "dados.to_csv(buffer, index = False)\n",
    "conteudo = buffer.getvalue()\n",
    "\n",
    "key = 'bronze-layer/pokemon.csv'"
   ]
  },
  {
   "cell_type": "code",
   "execution_count": 4,
   "metadata": {},
   "outputs": [
    {
     "name": "stdout",
     "output_type": "stream",
     "text": [
      "Object insert successful\n"
     ]
    }
   ],
   "source": [
    "try:\n",
    "    s3_cliente.put_object(Bucket = bucket, Key = key, Body = conteudo)\n",
    "    print('Object insert successful')\n",
    "except Exception as erro:\n",
    "    print('Error: ', erro)"
   ]
  }
 ],
 "metadata": {
  "kernelspec": {
   "display_name": "api_venv",
   "language": "python",
   "name": "python3"
  },
  "language_info": {
   "codemirror_mode": {
    "name": "ipython",
    "version": 3
   },
   "file_extension": ".py",
   "mimetype": "text/x-python",
   "name": "python",
   "nbconvert_exporter": "python",
   "pygments_lexer": "ipython3",
   "version": "3.11.2"
  }
 },
 "nbformat": 4,
 "nbformat_minor": 2
}
